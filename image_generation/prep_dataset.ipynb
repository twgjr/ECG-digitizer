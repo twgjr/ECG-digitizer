{
 "cells": [
  {
   "cell_type": "markdown",
   "metadata": {},
   "source": [
    "The WFDB headers files need to be augmented with the date from ptbxl_database.csv and scp_statements.csv.\n",
    "PhysioNet provided example code to help with that at https://github.com/physionetchallenges/python-example-2024\n",
    "\n",
    "Requires both the PTB-XL datasets.  Removed dependency on PTBXL-Plus dataset"
   ]
  },
  {
   "cell_type": "code",
   "execution_count": 1,
   "metadata": {},
   "outputs": [
    {
     "name": "stdout",
     "output_type": "stream",
     "text": [
      "/home/twgreen/cpsc-4300-6300/project/CPSC4300Project\n"
     ]
    }
   ],
   "source": [
    "import sys\n",
    "import os\n",
    "\n",
    "print(os.getcwd())\n",
    "sys.path.append(\"python_example_2024\")\n",
    "from prepare_ptbxl_data import *"
   ]
  },
  {
   "cell_type": "code",
   "execution_count": 2,
   "metadata": {},
   "outputs": [
    {
     "name": "stdout",
     "output_type": "stream",
     "text": [
      "/home/twgreen/cpsc-4300-6300/project/CPSC4300Project/python_example_2024\n",
      "Running parser for folder 00000\n",
      "Parsed args: Namespace(input_folder='../ptb_xl/records500/00000', ptbxl_database_file='../ptb_xl/ptbxl_database.csv', ptbxl_mapping_file='../ptb_xl/scp_statements.csv', output_folder='../ptb_xl/records500/00000')\n",
      "Running parser for folder 01000\n",
      "Parsed args: Namespace(input_folder='../ptb_xl/records500/01000', ptbxl_database_file='../ptb_xl/ptbxl_database.csv', ptbxl_mapping_file='../ptb_xl/scp_statements.csv', output_folder='../ptb_xl/records500/01000')\n",
      "Running parser for folder 02000\n",
      "Parsed args: Namespace(input_folder='../ptb_xl/records500/02000', ptbxl_database_file='../ptb_xl/ptbxl_database.csv', ptbxl_mapping_file='../ptb_xl/scp_statements.csv', output_folder='../ptb_xl/records500/02000')\n",
      "Running parser for folder 03000\n",
      "Parsed args: Namespace(input_folder='../ptb_xl/records500/03000', ptbxl_database_file='../ptb_xl/ptbxl_database.csv', ptbxl_mapping_file='../ptb_xl/scp_statements.csv', output_folder='../ptb_xl/records500/03000')\n",
      "Running parser for folder 04000\n",
      "Parsed args: Namespace(input_folder='../ptb_xl/records500/04000', ptbxl_database_file='../ptb_xl/ptbxl_database.csv', ptbxl_mapping_file='../ptb_xl/scp_statements.csv', output_folder='../ptb_xl/records500/04000')\n",
      "Running parser for folder 05000\n",
      "Parsed args: Namespace(input_folder='../ptb_xl/records500/05000', ptbxl_database_file='../ptb_xl/ptbxl_database.csv', ptbxl_mapping_file='../ptb_xl/scp_statements.csv', output_folder='../ptb_xl/records500/05000')\n",
      "Running parser for folder 06000\n",
      "Parsed args: Namespace(input_folder='../ptb_xl/records500/06000', ptbxl_database_file='../ptb_xl/ptbxl_database.csv', ptbxl_mapping_file='../ptb_xl/scp_statements.csv', output_folder='../ptb_xl/records500/06000')\n",
      "Running parser for folder 07000\n",
      "Parsed args: Namespace(input_folder='../ptb_xl/records500/07000', ptbxl_database_file='../ptb_xl/ptbxl_database.csv', ptbxl_mapping_file='../ptb_xl/scp_statements.csv', output_folder='../ptb_xl/records500/07000')\n",
      "Running parser for folder 08000\n",
      "Parsed args: Namespace(input_folder='../ptb_xl/records500/08000', ptbxl_database_file='../ptb_xl/ptbxl_database.csv', ptbxl_mapping_file='../ptb_xl/scp_statements.csv', output_folder='../ptb_xl/records500/08000')\n",
      "Running parser for folder 09000\n",
      "Parsed args: Namespace(input_folder='../ptb_xl/records500/09000', ptbxl_database_file='../ptb_xl/ptbxl_database.csv', ptbxl_mapping_file='../ptb_xl/scp_statements.csv', output_folder='../ptb_xl/records500/09000')\n",
      "Running parser for folder 10000\n",
      "Parsed args: Namespace(input_folder='../ptb_xl/records500/10000', ptbxl_database_file='../ptb_xl/ptbxl_database.csv', ptbxl_mapping_file='../ptb_xl/scp_statements.csv', output_folder='../ptb_xl/records500/10000')\n",
      "Running parser for folder 11000\n",
      "Parsed args: Namespace(input_folder='../ptb_xl/records500/11000', ptbxl_database_file='../ptb_xl/ptbxl_database.csv', ptbxl_mapping_file='../ptb_xl/scp_statements.csv', output_folder='../ptb_xl/records500/11000')\n",
      "Running parser for folder 12000\n",
      "Parsed args: Namespace(input_folder='../ptb_xl/records500/12000', ptbxl_database_file='../ptb_xl/ptbxl_database.csv', ptbxl_mapping_file='../ptb_xl/scp_statements.csv', output_folder='../ptb_xl/records500/12000')\n",
      "Running parser for folder 13000\n",
      "Parsed args: Namespace(input_folder='../ptb_xl/records500/13000', ptbxl_database_file='../ptb_xl/ptbxl_database.csv', ptbxl_mapping_file='../ptb_xl/scp_statements.csv', output_folder='../ptb_xl/records500/13000')\n",
      "Running parser for folder 14000\n",
      "Parsed args: Namespace(input_folder='../ptb_xl/records500/14000', ptbxl_database_file='../ptb_xl/ptbxl_database.csv', ptbxl_mapping_file='../ptb_xl/scp_statements.csv', output_folder='../ptb_xl/records500/14000')\n",
      "Running parser for folder 15000\n",
      "Parsed args: Namespace(input_folder='../ptb_xl/records500/15000', ptbxl_database_file='../ptb_xl/ptbxl_database.csv', ptbxl_mapping_file='../ptb_xl/scp_statements.csv', output_folder='../ptb_xl/records500/15000')\n",
      "Running parser for folder 16000\n",
      "Parsed args: Namespace(input_folder='../ptb_xl/records500/16000', ptbxl_database_file='../ptb_xl/ptbxl_database.csv', ptbxl_mapping_file='../ptb_xl/scp_statements.csv', output_folder='../ptb_xl/records500/16000')\n",
      "Running parser for folder 17000\n",
      "Parsed args: Namespace(input_folder='../ptb_xl/records500/17000', ptbxl_database_file='../ptb_xl/ptbxl_database.csv', ptbxl_mapping_file='../ptb_xl/scp_statements.csv', output_folder='../ptb_xl/records500/17000')\n",
      "Running parser for folder 18000\n",
      "Parsed args: Namespace(input_folder='../ptb_xl/records500/18000', ptbxl_database_file='../ptb_xl/ptbxl_database.csv', ptbxl_mapping_file='../ptb_xl/scp_statements.csv', output_folder='../ptb_xl/records500/18000')\n",
      "Running parser for folder 19000\n",
      "Parsed args: Namespace(input_folder='../ptb_xl/records500/19000', ptbxl_database_file='../ptb_xl/ptbxl_database.csv', ptbxl_mapping_file='../ptb_xl/scp_statements.csv', output_folder='../ptb_xl/records500/19000')\n",
      "Running parser for folder 20000\n",
      "Parsed args: Namespace(input_folder='../ptb_xl/records500/20000', ptbxl_database_file='../ptb_xl/ptbxl_database.csv', ptbxl_mapping_file='../ptb_xl/scp_statements.csv', output_folder='../ptb_xl/records500/20000')\n",
      "Running parser for folder 21000\n",
      "Parsed args: Namespace(input_folder='../ptb_xl/records500/21000', ptbxl_database_file='../ptb_xl/ptbxl_database.csv', ptbxl_mapping_file='../ptb_xl/scp_statements.csv', output_folder='../ptb_xl/records500/21000')\n",
      "/home/twgreen/cpsc-4300-6300/project/CPSC4300Project\n"
     ]
    }
   ],
   "source": [
    "cwd_save= os.getcwd()\n",
    "os.chdir(os.getcwd() + \"/python_example_2024\")\n",
    "print(os.getcwd())\n",
    "\n",
    "parser = get_parser()\n",
    "\n",
    "for f in range(22):\n",
    "    folder_num = f\"{f:02}000\"\n",
    "    args = [\"--i\" , f\"../ptb_xl/records500/{folder_num}\"] \n",
    "    args += [\"--o\" , f\"../ptb_xl/records500/{folder_num}\" ]\n",
    "    args += [\"-pd\" ,f\"../ptb_xl/ptbxl_database.csv\"]\n",
    "    args += [\"-pm\" , f\"../ptb_xl/scp_statements.csv\"]\n",
    "    \n",
    "    print(f\"Running parser for folder {folder_num}\")\n",
    "    parsed_args = parser.parse_args(args)\n",
    "    print(f\"Parsed args: {parsed_args}\")\n",
    "    \n",
    "    try:\n",
    "        run(parsed_args)\n",
    "    except SystemExit as e:\n",
    "        print(f\"SystemExit on folder {folder_num}: {e}\")\n",
    "    except Exception as e:\n",
    "        print(f\"Error on folder {folder_num}: {e}\")\n",
    "        \n",
    "os.chdir(cwd_save)\n",
    "print(os.getcwd())"
   ]
  },
  {
   "cell_type": "code",
   "execution_count": null,
   "metadata": {},
   "outputs": [],
   "source": []
  }
 ],
 "metadata": {
  "kernelspec": {
   "display_name": "Python 3 (ipykernel)",
   "language": "python",
   "name": "python3"
  },
  "language_info": {
   "codemirror_mode": {
    "name": "ipython",
    "version": 3
   },
   "file_extension": ".py",
   "mimetype": "text/x-python",
   "name": "python",
   "nbconvert_exporter": "python",
   "pygments_lexer": "ipython3",
   "version": "3.12.7"
  }
 },
 "nbformat": 4,
 "nbformat_minor": 4
}
